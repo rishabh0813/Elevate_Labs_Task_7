{
 "cells": [
  {
   "cell_type": "markdown",
   "id": "7b268ff5-976f-475d-9514-42285aa01f4c",
   "metadata": {},
   "source": [
    "# Importing required libraries"
   ]
  },
  {
   "cell_type": "code",
   "execution_count": 1,
   "id": "16509391-ddac-40df-a125-d73798c6584d",
   "metadata": {},
   "outputs": [],
   "source": [
    "import sqlite3"
   ]
  },
  {
   "cell_type": "code",
   "execution_count": 2,
   "id": "9a670f42-d834-4d34-9a06-b5960381fb69",
   "metadata": {},
   "outputs": [],
   "source": [
    "import pandas  as pd\n",
    "import matplotlib.pyplot as plt\n",
    "import seaborn as sns\n",
    "import warnings\n",
    "warnings.filterwarnings(\"ignore\")"
   ]
  },
  {
   "cell_type": "markdown",
   "id": "f7633f3c-e9d2-4d73-942b-3e03a62444e0",
   "metadata": {},
   "source": [
    "# Creating SQLite Database And Table"
   ]
  },
  {
   "cell_type": "code",
   "execution_count": 3,
   "id": "831c7d4f-d1b1-4290-91a2-1e2768826abb",
   "metadata": {},
   "outputs": [],
   "source": [
    "conn = sqlite3.connect(\"sales_data.db\")\n",
    "\n",
    "cursor = conn.cursor()\n"
   ]
  },
  {
   "cell_type": "code",
   "execution_count": 4,
   "id": "0b020946-30c3-4d01-b8da-ecddaeb6627a",
   "metadata": {},
   "outputs": [
    {
     "data": {
      "text/plain": [
       "<sqlite3.Cursor at 0x2e0a0ffe8c0>"
      ]
     },
     "execution_count": 4,
     "metadata": {},
     "output_type": "execute_result"
    }
   ],
   "source": [
    "cursor.execute(\"DROP TABLE IF EXISTS sales\")"
   ]
  },
  {
   "cell_type": "code",
   "execution_count": 5,
   "id": "5c3068e2-9a91-411a-80c4-911a836d9556",
   "metadata": {},
   "outputs": [],
   "source": [
    "cursor.execute(\"\"\"\n",
    "CREATE TABLE sales (\n",
    "    id INTEGER PRIMARY KEY AUTOINCREMENT,\n",
    "    product TEXT,\n",
    "    quantity INTEGER,\n",
    "    price REAL\n",
    ")\n",
    "\"\"\")\n",
    "\n",
    "sample_data = [\n",
    "    (\"Laptop\", 3, 1000.0),\n",
    "    (\"Laptop\", 2, 950.0),\n",
    "    (\"Phone\", 5, 500.0),\n",
    "    (\"Phone\", 8, 450.0),\n",
    "    (\"Tablet\", 4, 300.0),\n",
    "    (\"Tablet\", 6, 280.0),\n",
    "    (\"Headphones\", 10, 50.0),\n",
    "    (\"Headphones\", 15, 45.0),\n",
    "]\n",
    "\n",
    "cursor.executemany(\"INSERT INTO sales (product, quantity, price) VALUES (?, ?, ?)\", sample_data)\n",
    "conn.commit()"
   ]
  },
  {
   "cell_type": "markdown",
   "id": "5aab7626-237c-47a6-9a3b-89b4b96305cf",
   "metadata": {},
   "source": [
    "# Now Performing some basic SQL Query"
   ]
  },
  {
   "cell_type": "code",
   "execution_count": 6,
   "id": "f810738c-db6a-4b1e-be1a-f64a5ced5e19",
   "metadata": {},
   "outputs": [
    {
     "name": "stdout",
     "output_type": "stream",
     "text": [
      "      product  total_qty  revenue\n",
      "0  Headphones         25   1175.0\n",
      "1      Laptop          5   4900.0\n",
      "2       Phone         13   6100.0\n",
      "3      Tablet         10   2880.0\n"
     ]
    }
   ],
   "source": [
    "query = \"\"\"\n",
    "SELECT product, SUM(quantity) AS total_qty, SUM(quantity * price) AS revenue\n",
    "FROM sales\n",
    "GROUP BY product\n",
    "\"\"\"\n",
    "df = pd.read_sql_query(query, conn)\n",
    "print(df)"
   ]
  },
  {
   "cell_type": "code",
   "execution_count": 7,
   "id": "789e7512-fd57-47ad-806e-586151a854a5",
   "metadata": {},
   "outputs": [
    {
     "data": {
      "image/png": "[encoded data removed]",
      "text/plain": [
       "<Figure size 640x480 with 1 Axes>"
      ]
     },
     "metadata": {},
     "output_type": "display_data"
    }
   ],
   "source": [
    "df.plot(kind='bar', x='product', y='revenue', legend=False, title=\"Revenue by Product\")\n",
    "plt.ylabel(\"Revenue ($)\")\n",
    "plt.tight_layout()\n",
    "plt.savefig(\"sales_chart.png\")  \n",
    "plt.show() "
   ]
  },
  {
   "cell_type": "code",
   "execution_count": 8,
   "id": "cb419013-bfe3-4b33-b674-d59436142d37",
   "metadata": {},
   "outputs": [
    {
     "name": "stdout",
     "output_type": "stream",
     "text": [
      "      product  total_qty\n",
      "0  Headphones         25\n"
     ]
    }
   ],
   "source": [
    "query = \"\"\"\n",
    "SELECT product, SUM(quantity) AS total_qty\n",
    "FROM sales\n",
    "GROUP BY product\n",
    "ORDER BY total_qty DESC\n",
    "LIMIT 1\n",
    "\"\"\"\n",
    "df = pd.read_sql_query(query, conn)\n",
    "print(df)\n"
   ]
  },
  {
   "cell_type": "code",
   "execution_count": 9,
   "id": "1933e857-a552-46c6-9562-8ecd991abed7",
   "metadata": {},
   "outputs": [
    {
     "name": "stdout",
     "output_type": "stream",
     "text": [
      "      product  avg_price\n",
      "0  Headphones       47.5\n",
      "1      Laptop      975.0\n",
      "2       Phone      475.0\n",
      "3      Tablet      290.0\n"
     ]
    }
   ],
   "source": [
    "query = \"\"\"\n",
    "SELECT product, ROUND(AVG(price), 2) AS avg_price\n",
    "FROM sales\n",
    "GROUP BY product\n",
    "\"\"\"\n",
    "df = pd.read_sql_query(query, conn)\n",
    "print(df)"
   ]
  },
  {
   "cell_type": "code",
   "execution_count": 10,
   "id": "da545d19-9027-46ac-9d44-c72aa0745008",
   "metadata": {},
   "outputs": [
    {
     "name": "stdout",
     "output_type": "stream",
     "text": [
      "      product  revenue  pct_of_total\n",
      "0       Phone   6100.0         40.52\n",
      "1      Laptop   4900.0         32.55\n",
      "2      Tablet   2880.0         19.13\n",
      "3  Headphones   1175.0          7.80\n"
     ]
    }
   ],
   "source": [
    "query = \"\"\"\n",
    "WITH revenue_cte AS (\n",
    "    SELECT product, SUM(quantity * price) AS revenue\n",
    "    FROM sales\n",
    "    GROUP BY product\n",
    ")\n",
    "SELECT product, revenue,\n",
    "       ROUND(revenue * 100.0 / (SELECT SUM(revenue) FROM revenue_cte), 2) AS pct_of_total\n",
    "FROM revenue_cte\n",
    "ORDER BY revenue DESC\n",
    "\"\"\"\n",
    "df = pd.read_sql_query(query, conn)\n",
    "print(df)"
   ]
  },
  {
   "cell_type": "code",
   "execution_count": 11,
   "id": "5d2ce951-431c-41ad-806d-cea8c0e7c415",
   "metadata": {},
   "outputs": [
    {
     "name": "stdout",
     "output_type": "stream",
     "text": [
      "   id product  quantity  price  sale_value\n",
      "0   4   Phone         8  450.0      3600.0\n"
     ]
    }
   ],
   "source": [
    "query = \"\"\"\n",
    "SELECT id, product, quantity, price, (quantity * price) AS sale_value\n",
    "FROM sales\n",
    "ORDER BY sale_value DESC\n",
    "LIMIT 1\n",
    "\"\"\"\n",
    "df = pd.read_sql_query(query, conn)\n",
    "print(df)"
   ]
  },
  {
   "cell_type": "code",
   "execution_count": 12,
   "id": "3098e5c4-c7b3-48b9-b863-74868b4189eb",
   "metadata": {},
   "outputs": [
    {
     "name": "stdout",
     "output_type": "stream",
     "text": [
      "  product  avg_price\n",
      "0  Laptop      975.0\n",
      "1   Phone      475.0\n"
     ]
    }
   ],
   "source": [
    "query = \"\"\"\n",
    "SELECT product, ROUND(AVG(price), 2) AS avg_price\n",
    "FROM sales\n",
    "GROUP BY product\n",
    "HAVING avg_price > 300\n",
    "\"\"\"\n",
    "df = pd.read_sql_query(query, conn)\n",
    "print(df)"
   ]
  },
  {
   "cell_type": "code",
   "execution_count": 13,
   "id": "c1ea7b25-0801-4f42-a935-4a0917728575",
   "metadata": {},
   "outputs": [
    {
     "name": "stdout",
     "output_type": "stream",
     "text": [
      "   total_units\n",
      "0           53\n"
     ]
    }
   ],
   "source": [
    "query = \"SELECT SUM(quantity) AS total_units FROM sales\"\n",
    "df = pd.read_sql_query(query, conn)\n",
    "print(df)"
   ]
  },
  {
   "cell_type": "code",
   "execution_count": 14,
   "id": "8026b748-3264-44eb-b27d-3bc2d32d46c0",
   "metadata": {},
   "outputs": [
    {
     "name": "stdout",
     "output_type": "stream",
     "text": [
      "      product  revenue  rank\n",
      "0       Phone   6100.0     1\n",
      "1      Laptop   4900.0     2\n",
      "2      Tablet   2880.0     3\n",
      "3  Headphones   1175.0     4\n"
     ]
    }
   ],
   "source": [
    "query = \"\"\"\n",
    "SELECT product, SUM(quantity * price) AS revenue,\n",
    "       ROW_NUMBER() OVER (ORDER BY SUM(quantity * price) DESC) AS rank\n",
    "FROM sales\n",
    "GROUP BY product\n",
    "\"\"\"\n",
    "df = pd.read_sql_query(query, conn)\n",
    "print(df)"
   ]
  },
  {
   "cell_type": "code",
   "execution_count": 1,
   "id": "2de04f34-4d88-4112-bf00-59b7d871117a",
   "metadata": {},
   "outputs": [
    {
     "ename": "NameError",
     "evalue": "name 'df' is not defined",
     "output_type": "error",
     "traceback": [
      "\u001b[31m---------------------------------------------------------------------------\u001b[39m",
      "\u001b[31mNameError\u001b[39m                                 Traceback (most recent call last)",
      "\u001b[36mCell\u001b[39m\u001b[36m \u001b[39m\u001b[32mIn[1]\u001b[39m\u001b[32m, line 1\u001b[39m\n\u001b[32m----> \u001b[39m\u001b[32m1\u001b[39m \u001b[43mdf\u001b[49m.plot(kind=\u001b[33m'\u001b[39m\u001b[33mpie\u001b[39m\u001b[33m'\u001b[39m, y=\u001b[33m'\u001b[39m\u001b[33mrevenue\u001b[39m\u001b[33m'\u001b[39m, labels=df[\u001b[33m'\u001b[39m\u001b[33mproduct\u001b[39m\u001b[33m'\u001b[39m], autopct=\u001b[33m'\u001b[39m\u001b[38;5;132;01m%1.1f\u001b[39;00m\u001b[38;5;132;01m%%\u001b[39;00m\u001b[33m'\u001b[39m, legend=\u001b[38;5;28;01mFalse\u001b[39;00m)\n\u001b[32m      2\u001b[39m plt.ylabel(\u001b[33m\"\u001b[39m\u001b[33m\"\u001b[39m)\n\u001b[32m      3\u001b[39m plt.title(\u001b[33m\"\u001b[39m\u001b[33mRevenue Share by Product\u001b[39m\u001b[33m\"\u001b[39m)\n",
      "\u001b[31mNameError\u001b[39m: name 'df' is not defined"
     ]
    }
   ],
   "source": [
    "df.plot(kind='pie', y='revenue', labels=df['product'], autopct='%1.1f%%', legend=False)\n",
    "plt.ylabel(\"\")\n",
    "plt.title(\"Revenue Share by Product\")\n",
    "plt.savefig(\"revenue_share_chart.png\")  \n",
    "plt.show()"
   ]
  },
  {
   "cell_type": "code",
   "execution_count": 2,
   "id": "4521c0f0-d01c-4bd6-b749-ef4d0687761d",
   "metadata": {},
   "outputs": [
    {
     "ename": "NameError",
     "evalue": "name 'df' is not defined",
     "output_type": "error",
     "traceback": [
      "\u001b[31m---------------------------------------------------------------------------\u001b[39m",
      "\u001b[31mNameError\u001b[39m                                 Traceback (most recent call last)",
      "\u001b[36mCell\u001b[39m\u001b[36m \u001b[39m\u001b[32mIn[2]\u001b[39m\u001b[32m, line 1\u001b[39m\n\u001b[32m----> \u001b[39m\u001b[32m1\u001b[39m df_sorted = \u001b[43mdf\u001b[49m.sort_values(\u001b[33m\"\u001b[39m\u001b[33mrevenue\u001b[39m\u001b[33m\"\u001b[39m)\n\u001b[32m      2\u001b[39m df_sorted.plot(kind=\u001b[33m'\u001b[39m\u001b[33mline\u001b[39m\u001b[33m'\u001b[39m, x=\u001b[33m'\u001b[39m\u001b[33mproduct\u001b[39m\u001b[33m'\u001b[39m, y=\u001b[33m'\u001b[39m\u001b[33mrevenue\u001b[39m\u001b[33m'\u001b[39m, marker=\u001b[33m'\u001b[39m\u001b[33mo\u001b[39m\u001b[33m'\u001b[39m)\n\u001b[32m      3\u001b[39m plt.title(\u001b[33m\"\u001b[39m\u001b[33mRevenue Trend\u001b[39m\u001b[33m\"\u001b[39m)\n",
      "\u001b[31mNameError\u001b[39m: name 'df' is not defined"
     ]
    }
   ],
   "source": [
    "df_sorted = df.sort_values(\"revenue\")\n",
    "df_sorted.plot(kind='line', x='product', y='revenue', marker='o')\n",
    "plt.title(\"Revenue Trend\")\n",
    "plt.ylabel(\"Revenue ($)\")\n",
    "plt.savefig(\"revenue-trend_chart.png\")  \n",
    "plt.show()"
   ]
  },
  {
   "cell_type": "code",
   "execution_count": 17,
   "id": "84dfc1c0-29c8-4289-af0d-1c5584814d35",
   "metadata": {},
   "outputs": [
    {
     "data": {
      "image/png": "[encoded data removed]",
      "text/plain": [
       "<Figure size 640x480 with 1 Axes>"
      ]
     },
     "metadata": {},
     "output_type": "display_data"
    }
   ],
   "source": [
    "query = \"\"\"\n",
    "SELECT product, AVG(price) AS avg_price, SUM(quantity) AS total_qty\n",
    "FROM sales\n",
    "GROUP BY product\n",
    "\"\"\"\n",
    "df2 = pd.read_sql_query(query, conn)\n",
    "\n",
    "df2.plot(kind='scatter', x='avg_price', y='total_qty')\n",
    "plt.title(\"Avg Price vs Total Quantity Sold\")\n",
    "plt.xlabel(\"Average Price ($)\")\n",
    "plt.ylabel(\"Total Quantity Sold\")\n",
    "plt.savefig(\"price_vs_Quantity_chart.png\")  \n",
    "plt.show()"
   ]
  },
  {
   "cell_type": "markdown",
   "id": "c00cfd81-b0c3-467c-96d7-aa78486b73bc",
   "metadata": {},
   "source": [
    "# Closing Connection"
   ]
  },
  {
   "cell_type": "code",
   "execution_count": 18,
   "id": "3eee03c5-e9e1-42db-aa4a-f6998070c772",
   "metadata": {},
   "outputs": [],
   "source": [
    "conn.close()"
   ]
  },
  {
   "cell_type": "code",
   "execution_count": null,
   "id": "9044dd6f-50ea-425a-b268-77274077d287",
   "metadata": {},
   "outputs": [],
   "source": []
  }
 ],
 "metadata": {
  "kernelspec": {
   "display_name": "Python 3 (ipykernel)",
   "language": "python",
   "name": "python3"
  },
  "language_info": {
   "codemirror_mode": {
    "name": "ipython",
    "version": 3
   },
   "file_extension": ".py",
   "mimetype": "text/x-python",
   "name": "python",
   "nbconvert_exporter": "python",
   "pygments_lexer": "ipython3",
   "version": "3.13.0"
  }
 },
 "nbformat": 4,
 "nbformat_minor": 5
}
